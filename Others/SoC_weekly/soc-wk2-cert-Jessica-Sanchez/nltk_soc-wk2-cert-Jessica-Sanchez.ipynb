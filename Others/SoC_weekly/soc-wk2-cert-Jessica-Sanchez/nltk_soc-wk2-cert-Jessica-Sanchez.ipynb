{
 "cells": [
  {
   "cell_type": "markdown",
   "metadata": {},
   "source": [
    "#W2.D4.23 install pip, NLTK, Anaconda and Jupyter Notebook -Done\n",
    "\n",
    "#W2.D4.24 Excercise 5 from NLTK E-book: Compare the lexical diversity scores for humor and romance fiction in 1.1. Which genre is more lexically diverse?\n"
   ]
  },
  {
   "cell_type": "code",
   "execution_count": 2,
   "metadata": {
    "scrolled": true
   },
   "outputs": [],
   "source": [
    "import nltk"
   ]
  },
  {
   "cell_type": "code",
   "execution_count": 6,
   "metadata": {},
   "outputs": [
    {
     "name": "stdout",
     "output_type": "stream",
     "text": [
      "The genre which is more lexically diverse is humor with 23.1%\n",
      "\n"
     ]
    }
   ],
   "source": [
    "ld={\"humor\": 0.231, \"fiction: romance\": 0.121}\n",
    "\n",
    "if ld[\"humor\"] > ld[\"fiction: romance\"]:\n",
    "    more_div = \"humor\"\n",
    "    less_div= \"fiction: romance\"\n",
    "else:\n",
    "    more_div = \"fiction: romance\"\n",
    "    less_div = \"humor\"\n",
    "    \n",
    "print('The genre which is more lexically diverse is ' + more_div + ' with ' + str(ld[more_div]*100)+'%')\n",
    "\n",
    "print()"
   ]
  }
 ],
 "metadata": {
  "kernelspec": {
   "display_name": "Python 3",
   "language": "python",
   "name": "python3"
  },
  "language_info": {
   "codemirror_mode": {
    "name": "ipython",
    "version": 3
   },
   "file_extension": ".py",
   "mimetype": "text/x-python",
   "name": "python",
   "nbconvert_exporter": "python",
   "pygments_lexer": "ipython3",
   "version": "3.7.0"
  }
 },
 "nbformat": 4,
 "nbformat_minor": 2
}
